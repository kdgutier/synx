{
 "cells": [
  {
   "cell_type": "code",
   "execution_count": 1,
   "metadata": {},
   "outputs": [],
   "source": [
    "import numpy as np\n",
    "import cvxpy as cvx\n",
    "\n"
   ]
  },
  {
   "cell_type": "code",
   "execution_count": 5,
   "metadata": {},
   "outputs": [],
   "source": [
    "# KIRCHHOFF\n",
    "I_NG = np.block([[1, 0],\n",
    "                 [0, 1],\n",
    "                 [0, 0]])\n",
    "\n",
    "I_NL = np.block([[1, 1, 0], \n",
    "                 [-1, 0, 1],\n",
    "                 [0, -1, -1]])\n",
    "\n",
    "I_ND = np.block([[0], [0], [1]])\n",
    "\n",
    "# OHM (susceptance)\n",
    "N_sus = np.block([[1, -1, 0],\n",
    "                  [1, 0, -1],\n",
    "                  [0, 1, -1]])\n",
    "\n",
    "# SHIFT FACTORS\n",
    "SF_LN = np.block([[0, -2/3, -1/3],\n",
    "                  [0, -1/3, -2/3],\n",
    "                  [0, 1/3, -1/3]])\n",
    "\n",
    "# LIMITS TO POWER FLOW\n",
    "PL_max = np.block([[150], [150], [150]])\n",
    "\n",
    "# POWER DEMAND\n",
    "P_D = np.block([[150]])\n",
    "\n",
    "# EXTRA\n",
    "n_G = I_NG.shape[1]\n",
    "n_D = I_ND.shape[1]\n",
    "ones_g = np.ones(shape=(n_G, 1))\n",
    "ones_d = np.ones(shape=(n_D, 1))\n"
   ]
  },
  {
   "cell_type": "code",
   "execution_count": 6,
   "metadata": {},
   "outputs": [],
   "source": [
    "# COST\n",
    "c = np.array([[ 10, 12 ]])\n",
    "\n",
    "# SUPPLY = DEMAND CONSTRAINT\n",
    "A_eq = ones_g.T\n",
    "b_eq = ones_d.T@P_D\n",
    "\n",
    "# POWER BALANCE CONSTRAINT\n",
    "A_ub = np.block([[SF_LN@I_NG], \n",
    "                 [-SF_LN@I_NG]])\n",
    "b_ub = np.block([[PL_max + SF_LN@I_ND@P_D],\n",
    "                 [PL_max - SF_LN@I_ND@P_D]]).squeeze()\n",
    "\n",
    "# POSITIVITY AND CAPACITY\n",
    "#P1_bounds = (0, None)\n",
    "#P2_bounds = (0, None)"
   ]
  },
  {
   "cell_type": "code",
   "execution_count": 7,
   "metadata": {},
   "outputs": [
    {
     "name": "stdout",
     "output_type": "stream",
     "text": [
      "optimal (A_eq*P == b_eq) dual variable [10.]\n",
      "optimal (A_ub*P <= b_ub) dual variable [1.17588632e-10 2.68550510e-10 4.20313786e-10 2.08244432e-10\n",
      " 2.80784552e-10 3.34873298e-10]\n",
      "c*P: 1500.000000150917\n"
     ]
    }
   ],
   "source": [
    "# Create optimization variables.\n",
    "P = cvx.Variable(n_G,1)\n",
    "\n",
    "# Create two constraints.\n",
    "constraints = [-A_eq*P == -b_eq,\n",
    "               A_ub*P <= b_ub,\n",
    "               P >= 0]\n",
    "\n",
    "# Form objective.\n",
    "obj = cvx.Minimize(c*P)\n",
    "\n",
    "# Form and solve problem.\n",
    "prob = cvx.Problem(obj, constraints)\n",
    "prob.solve()\n",
    "\n",
    "# The optimal dual variable (Lagrange multiplier) for\n",
    "# a constraint is stored in constraint.dual_value.\n",
    "print(\"optimal (A_eq*P == b_eq) dual variable\", constraints[0].dual_value)\n",
    "print(\"optimal (A_ub*P <= b_ub) dual variable\", constraints[1].dual_value)\n",
    "print(\"c*P:\", prob.value)"
   ]
  },
  {
   "cell_type": "code",
   "execution_count": null,
   "metadata": {},
   "outputs": [],
   "source": []
  }
 ],
 "metadata": {
  "kernelspec": {
   "display_name": "Python 3",
   "language": "python",
   "name": "python3"
  },
  "language_info": {
   "codemirror_mode": {
    "name": "ipython",
    "version": 3
   },
   "file_extension": ".py",
   "mimetype": "text/x-python",
   "name": "python",
   "nbconvert_exporter": "python",
   "pygments_lexer": "ipython3",
   "version": "3.6.3"
  }
 },
 "nbformat": 4,
 "nbformat_minor": 2
}
